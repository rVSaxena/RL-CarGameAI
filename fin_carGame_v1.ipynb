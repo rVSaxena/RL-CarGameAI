{
 "cells": [
  {
   "cell_type": "code",
   "execution_count": 1,
   "metadata": {
    "colab": {},
    "colab_type": "code",
    "id": "HZaeiED4jV1q"
   },
   "outputs": [],
   "source": [
    "import tensorflow as tf\n",
    "from tensorflow import keras as keras"
   ]
  },
  {
   "cell_type": "code",
   "execution_count": 2,
   "metadata": {
    "colab": {},
    "colab_type": "code",
    "id": "cuFTVyhbjV1s"
   },
   "outputs": [],
   "source": [
    "import time\n",
    "import numpy as np\n",
    "import matplotlib.pyplot as plt\n",
    "import matplotlib\n",
    "import matplotlib.image as mpimg"
   ]
  },
  {
   "cell_type": "markdown",
   "metadata": {},
   "source": [
    "<h1>Loading track</h1>"
   ]
  },
  {
   "cell_type": "code",
   "execution_count": 7,
   "metadata": {
    "colab": {},
    "colab_type": "code",
    "id": "k44BRDhajV1u"
   },
   "outputs": [],
   "source": [
    "class Track:\n",
    "    def __init__(self, base_image, spawn_at):\n",
    "        \"\"\"\n",
    "        Convert RGB to Grey-Scale.\n",
    "        Image expected to be of n x m\n",
    "        \"\"\"\n",
    "        res=base_image.astype('int16')\n",
    "        self.track=res\n",
    "        self.spawn_at=spawn_at\n",
    "\n",
    "        return "
   ]
  },
  {
   "cell_type": "code",
   "execution_count": 385,
   "metadata": {},
   "outputs": [],
   "source": [
    "img = mpimg.imread(\"track_pic9.jpg\")[:,:,0]"
   ]
  },
  {
   "cell_type": "code",
   "execution_count": 331,
   "metadata": {},
   "outputs": [
    {
     "data": {
      "text/plain": [
       "array([0.        , 0.01960784, 0.05882353, 0.09803922, 0.11372549,\n",
       "       0.12941177, 0.15686275, 0.18039216, 0.20784314, 0.23921569,\n",
       "       0.26666668, 0.3019608 , 0.33333334, 0.3647059 , 0.41568628,\n",
       "       0.4509804 , 0.49411765, 0.5254902 , 0.5803922 , 0.6156863 ,\n",
       "       0.6627451 , 0.73333335, 0.78039217, 0.8039216 , 0.8392157 ,\n",
       "       0.8627451 , 0.8745098 , 0.8901961 , 0.90588236, 0.92156863,\n",
       "       0.93333334, 0.9490196 , 0.9647059 , 0.9882353 , 1.        ],\n",
       "      dtype=float32)"
      ]
     },
     "execution_count": 331,
     "metadata": {},
     "output_type": "execute_result"
    }
   ],
   "source": [
    "np.unique(img)"
   ]
  },
  {
   "cell_type": "code",
   "execution_count": 388,
   "metadata": {},
   "outputs": [
    {
     "name": "stdout",
     "output_type": "stream",
     "text": [
      "(882, 1174)\n"
     ]
    },
    {
     "data": {
      "text/plain": [
       "<matplotlib.image.AxesImage at 0x202d3e9fc18>"
      ]
     },
     "execution_count": 388,
     "metadata": {},
     "output_type": "execute_result"
    },
    {
     "data": {
      "image/png": "[encoded data removed]",
      "text/plain": [
       "<Figure size 432x288 with 1 Axes>"
      ]
     },
     "metadata": {
      "needs_background": "light"
     },
     "output_type": "display_data"
    }
   ],
   "source": [
    "track1=(img<150).astype('int')\n",
    "print(track1.shape)\n",
    "track_rows, track_cols=track1.shape\n",
    "pos_pos=np.where(track1==1)\n",
    "spawning_positions=np.zeros((len(pos_pos[0]), 2))\n",
    "spawning_positions[:, 0]=pos_pos[0]\n",
    "spawning_positions[:, 1]=pos_pos[1]\n",
    "spawning_positions=spawning_positions.astype('int')\n",
    "\n",
    "track=Track(track1, spawning_positions)\n",
    "plt.imshow(track1)"
   ]
  },
  {
   "cell_type": "markdown",
   "metadata": {},
   "source": [
    "<i>Verify that track is 1 and off track 0<i>"
   ]
  },
  {
   "cell_type": "code",
   "execution_count": 389,
   "metadata": {},
   "outputs": [
    {
     "data": {
      "text/plain": [
       "0"
      ]
     },
     "execution_count": 389,
     "metadata": {},
     "output_type": "execute_result"
    }
   ],
   "source": [
    "track1[100, 100]"
   ]
  },
  {
   "cell_type": "markdown",
   "metadata": {},
   "source": [
    "<h1> The car class</h1>"
   ]
  },
  {
   "cell_type": "code",
   "execution_count": 8,
   "metadata": {
    "colab": {},
    "colab_type": "code",
    "id": "d1gZTj9LjV1w"
   },
   "outputs": [],
   "source": [
    "class Car:\n",
    "    \"\"\"\n",
    "    The car object has the following attributes:\n",
    "    1. Track - the associated track\n",
    "    2. spawn_at: Possible spawning indices\n",
    "    3. current position: Current position on the track. Floating point coordinate.\n",
    "    4. integer_position_: defined as current_position.astype('int16')\n",
    "    5. Bool collided_on_last\n",
    "    6. sensors: LIDAR type function\n",
    "    7. init_speed_\n",
    "    8. max_speed\n",
    "    9. sampling frequency: The frequency of play.\n",
    "    10. speed: Current speed\n",
    "    11. car_angle: current car angle as define below.\n",
    "    \"\"\" \n",
    "    \n",
    "    \n",
    "   \n",
    "    def __init__(self, track, max_speed, spawn_at):\n",
    "        \n",
    "        \"\"\"\n",
    "        track: The track as a binary array\n",
    "        max_speed: Max attainable speed\n",
    "        spawn_at: The possible spawning positions for the car. One among this is chosen.\n",
    "        \"\"\"\n",
    "        \n",
    "        \"\"\"\n",
    "        car angle is defined as the angle from the angle from\n",
    "        the standard mathematical X axis, i.e., \n",
    "        y ^\n",
    "          |\n",
    "          |\n",
    "          |\n",
    "          -------> x\n",
    "        Positive is ACW.\n",
    "        \"\"\"\n",
    "        self.track=track\n",
    "        \n",
    "        self.possible_position=spawn_at\n",
    "        self.current_position=self.possible_position[np.random.choice(range(len(self.possible_position)))]\n",
    "        self.integer_position_=self.current_position.astype('int16')\n",
    "        self.collided_on_last=None\n",
    "    \n",
    "        self.init_speed__=0\n",
    "        self.speed=self.init_speed__\n",
    "        self.max_speed=max_speed\n",
    "        self.sampling_frequency=10\n",
    "\n",
    "        self.car_angle=np.random.uniform(0, 1)*2*np.pi\n",
    "        \n",
    "        self.sensors=np.zeros((8,))\n",
    "        self.load_sensors()\n",
    "\n",
    "\n",
    "        return\n",
    "    \n",
    "    def duplicate(self):\n",
    "        \"\"\"\n",
    "        Return: A car object, completely mimicing the current car object in every way.\n",
    "        \"\"\"\n",
    "        car=Car(self.track, self.max_speed, self.spawn_at)\n",
    "        car.current_position=car.current_position*0+self.current_position\n",
    "        car.integer_position_=car.current_position.astype('int16')\n",
    "        car.collided_on_last=self.collided_on_last\n",
    "        \n",
    "        car.speed=self.speed\n",
    "        car.car_angle=self.car_angle\n",
    "        \n",
    "        car.sampling_frequency=self.sampling_frequency\n",
    "        car.load_sensors()\n",
    "        \n",
    "        return car\n",
    "        \n",
    "    \n",
    "    def re_spawn(self):\n",
    "        \"\"\"\n",
    "        Re-spawn the current car at a legal position. Consult spawn_at attribute.\n",
    "        Set all car state attributes.\n",
    "        \"\"\"\n",
    "        \n",
    "        self.speed=self.init_speed__\n",
    "        self.current_position=self.possible_position[np.random.choice(range(len(self.possible_position)))]\n",
    "        self.integer_position_=self.current_position.astype('int16')\n",
    "        self.collided_on_last=None\n",
    "        self.load_sensors()\n",
    "        self.speed=self.init_speed__\n",
    "        self.car_angle=np.random.uniform(0, 1)*2*np.pi\n",
    "        return        \n",
    "                \n",
    "    def execute_forces(self, f1, f2, max_magnitudes=50):\n",
    "        \"\"\"\n",
    "        Execute the forces.\n",
    "        Update car state attributes:\n",
    "            speed\n",
    "            car_angle\n",
    "            collided_on_last\n",
    "            current_position, integer_position\n",
    "            sensors\n",
    "        \"\"\"\n",
    "        \n",
    "        \"\"\"\n",
    "        f1 is the force in the vertical direction\n",
    "        f2 is the force in the horizrontal direction\n",
    "\n",
    "        ^\n",
    "        |\n",
    "        |     this is f1\n",
    "\n",
    "\n",
    "        ------>  this is f2\n",
    "        \"\"\"\n",
    "\n",
    "        \"\"\"\n",
    "        f1 is expected between -1, 1\n",
    "        f2 is expected between -1, 1\n",
    "        \"\"\"\n",
    "\n",
    "        f1=max_magnitudes*f1\n",
    "        f2=max_magnitudes*f2\n",
    "        if self.speed==0:\n",
    "            if f1==0 or f2==0:\n",
    "                if f1==0 and f2==0:\n",
    "                    return\n",
    "                elif f1!=0 and f2==0:\n",
    "                    self.car_angle=np.pi/2\n",
    "                    if f1<0:\n",
    "                        self.car_angle=3*np.pi/2\n",
    "                else:\n",
    "                    self.car_angle=0\n",
    "                    if f2<0:\n",
    "                        self.car_angle=self.car_angle+np.pi\n",
    "            else:\n",
    "                abs_angle=np.arctan(abs(f1/f2))\n",
    "                if f1>0 and f2>0:\n",
    "                    self.car_angle=abs_angle\n",
    "                elif f1>0 and f2<0:\n",
    "                    self.car_angle=np.pi-abs_angle\n",
    "                elif f1<0 and f2<0:\n",
    "                    self.car_angle=np.pi+abs_angle\n",
    "                else:\n",
    "                    self.car_angle=2*np.pi-abs_angle\n",
    "                \n",
    "        \"\"\"\n",
    "        Skip this for game_v1\n",
    "        Maintain constant speed for now.\n",
    "        self.speed=min(\n",
    "            abs(self.speed+(f2*np.cos(self.car_angle)+f1*np.sin(self.car_angle))*(1.0/self.sampling_frequency)),\n",
    "            self.max_speed\n",
    "        )\n",
    "        \"\"\"\n",
    "        self.speed=self.max_speed\n",
    "        delta_angle=0\n",
    "        if self.speed!=0:\n",
    "            delta_angle=np.arctan( (f1*np.cos(self.car_angle)-f2*np.sin(self.car_angle))\n",
    "                /\n",
    "                (self.speed*self.sampling_frequency)\n",
    "                )\n",
    "        self.car_angle=np.mod(self.car_angle+delta_angle, 2*np.pi)\n",
    "        movement=np.asarray([\n",
    "            -1*self.speed*np.sin(self.car_angle)*1.0/self.sampling_frequency, \n",
    "            self.speed*np.cos(self.car_angle)*1.0/self.sampling_frequency])\n",
    "        if max(abs(movement))==0:\n",
    "            print(\"Zero Movement recorded. Speed is: \", self.speed, \" sampling_frequency is: \", self.sampling_frequency)\n",
    "\n",
    "        old_position=np.zeros((2,))+self.current_position\n",
    "        old_int_position=np.zeros((2,))+self.integer_position_\n",
    "        self.current_position=self.current_position+movement\n",
    "        self.integer_position_=self.current_position.astype('int16')\n",
    "        if np.min(self.current_position+movement)<0 or (self.current_position+movement>=self.track.shape).any() or self.track[self.integer_position_[0], self.integer_position_[1]]!=1:\n",
    "            for distance in range(0, int(np.ceil(self.max_speed*self.sampling_frequency))+1):\n",
    "                movement=np.asarray([-distance*np.sin(self.car_angle), distance*np.cos(self.car_angle)])\n",
    "                temp_pos=old_int_position+movement\n",
    "                temp_pos_int=temp_pos.astype('int16')\n",
    "                if min(temp_pos_int)>=0 and (temp_pos_int<self.track.shape).all():\n",
    "                    if self.track[temp_pos_int[0], temp_pos_int[1]]==1:\n",
    "                        self.current_position=self.current_position*0+temp_pos\n",
    "                        self.integer_position_=self.current_position.astype('int16')\n",
    "                    else:\n",
    "                        break\n",
    "                else:\n",
    "                    break\n",
    "            self.speed=0\n",
    "            self.collided_on_last=True\n",
    "        else:\n",
    "            self.collided_on_last=False\n",
    "        self.load_sensors()\n",
    "\n",
    "        return\n",
    "\n",
    "\n",
    "    def load_sensors(self):\n",
    "        \"\"\"\n",
    "        sensors will be at \n",
    "        0\n",
    "        30\n",
    "        60\n",
    "        90\n",
    "        -30\n",
    "        -60\n",
    "        -90\n",
    "        180 (directly backward)\n",
    "        degrees\n",
    "        \"\"\"\n",
    "        angles=[0, np.pi/6, np.pi/3, np.pi/2, -np.pi/6, -np.pi/3, -np.pi/2, np.pi]\n",
    "        temp_data=np.zeros((8, ))\n",
    "        for angle_index in range(len(angles)):\n",
    "            cur_angle=np.mod(self.car_angle+angles[angle_index], 2*np.pi)\n",
    "            for distance in range(1, 101):\n",
    "                r, c=int(self.integer_position_[0]-distance*np.sin(cur_angle)), int(self.integer_position_[1]+distance*np.cos(cur_angle))\n",
    "                if min(r, c)<0 or r>=self.track.shape[0] or c>=self.track.shape[1]:\n",
    "                    temp_data[angle_index]=distance-1\n",
    "                    break\n",
    "                if self.track[r, c]==0:\n",
    "                    temp_data[angle_index]=distance-1\n",
    "                    break\n",
    "                if distance==100:\n",
    "                    temp_data[angle_index]=distance\n",
    "        self.sensors[0]=temp_data[7]\n",
    "        self.sensors[4]=temp_data[0]\n",
    "        self.sensors[5]=temp_data[1]\n",
    "        self.sensors[6]=temp_data[2]\n",
    "        self.sensors[7]=temp_data[3]\n",
    "        self.sensors[1]=temp_data[6]\n",
    "        self.sensors[2]=temp_data[5]\n",
    "        self.sensors[3]=temp_data[4]\n",
    "        return"
   ]
  },
  {
   "cell_type": "markdown",
   "metadata": {
    "colab_type": "text",
    "id": "aQl2afV0K65D"
   },
   "source": [
    "<h6>Some testing</h6>"
   ]
  },
  {
   "cell_type": "code",
   "execution_count": 172,
   "metadata": {},
   "outputs": [
    {
     "data": {
      "text/plain": [
       "<function matplotlib.image.imsave(fname, arr, vmin=None, vmax=None, cmap=None, format=None, origin=None, dpi=100, *, metadata=None, pil_kwargs=None)>"
      ]
     },
     "execution_count": 172,
     "metadata": {},
     "output_type": "execute_result"
    }
   ],
   "source": [
    "matplotlib.image.imsave"
   ]
  },
  {
   "cell_type": "code",
   "execution_count": 11,
   "metadata": {},
   "outputs": [
    {
     "data": {
      "text/plain": [
       "(983, 995)"
      ]
     },
     "execution_count": 11,
     "metadata": {},
     "output_type": "execute_result"
    }
   ],
   "source": [
    "track_rows, track_cols"
   ]
  },
  {
   "cell_type": "code",
   "execution_count": null,
   "metadata": {
    "colab": {
     "base_uri": "https://localhost:8080/",
     "height": 1000
    },
    "colab_type": "code",
    "id": "W0HMyrQQjV17",
    "outputId": "651b0c9b-45a7-4914-975b-d54b2b724dbf",
    "scrolled": true
   },
   "outputs": [],
   "source": [
    "new_car=Car(track.track, 50, track.spawn_at)\n",
    "new_car.sampling_frequency=20\n",
    "\n",
    "\n",
    "def get_plot(positions, superimposeon_this):\n",
    "    x, y=positions\n",
    "    for x_diff in range(-30, 31):\n",
    "        for y_diff in range(-30, 31):\n",
    "            if np.sqrt(x_diff**2+y_diff**2)<14:\n",
    "                superimposeon_this[x+x_diff][y+y_diff]=1\n",
    "    f=plt.figure(figsize=(10, 20))\n",
    "    plt.imshow(superimposeon_this+new_car.track)\n",
    "    plt.show()\n",
    "    return\n",
    "\n",
    "\n",
    "base_fig=np.zeros((track_rows, track_cols))\n",
    "\n",
    "\n",
    "for iteration in range(3000):\n",
    "    r, c=new_car.integer_position_\n",
    "    for x_diff in range(-7, 8):\n",
    "        for y_diff in range(-7, 8):\n",
    "            if np.sqrt(x_diff**2+y_diff**2)<4:\n",
    "                if r+x_diff<new_car.track.shape[0] and c+y_diff<new_car.track.shape[1]:\n",
    "                    base_fig[r+x_diff][c+y_diff]=1\n",
    "                    \n",
    "                    \n",
    "    direction, best_action_value=get_opt_action(new_car, target_model, actions, data_scaler, usescaler)\n",
    "    print(direction, new_car.sensors[4], new_car.speed)\n",
    "    \n",
    "    theta=new_car.car_angle\n",
    "    if direction==-1:\n",
    "        theta=theta+np.pi/2\n",
    "    if direction==1:\n",
    "        theta=theta-np.pi/2\n",
    "        \n",
    "    f1, f2=np.sin(theta), np.cos(theta)\n",
    "    new_car.execute_forces(f1, f2, max_magnitudes=500)\n",
    "    \n",
    "    if new_car.collided_on_last:\n",
    "        print(\"boom\")\n",
    "        break\n",
    "        \n",
    "get_plot(new_car.integer_position_, base_fig)\n",
    "            \n",
    "            "
   ]
  },
  {
   "cell_type": "code",
   "execution_count": 397,
   "metadata": {},
   "outputs": [
    {
     "data": {
      "text/plain": [
       "<matplotlib.image.AxesImage at 0x202d27c4320>"
      ]
     },
     "execution_count": 397,
     "metadata": {},
     "output_type": "execute_result"
    },
    {
     "data": {
      "image/png": "[encoded data removed]",
      "text/plain": [
       "<Figure size 432x288 with 1 Axes>"
      ]
     },
     "metadata": {
      "needs_background": "light"
     },
     "output_type": "display_data"
    }
   ],
   "source": [
    "plt.imshow(base_fig+track1)"
   ]
  },
  {
   "cell_type": "code",
   "execution_count": 394,
   "metadata": {},
   "outputs": [],
   "source": [
    "t=time.ctime()\n",
    "l=[]\n",
    "for i in t:\n",
    "    if i==\" \":\n",
    "        continue\n",
    "    if i==':':\n",
    "        l.append(\"_\")\n",
    "    else:\n",
    "        l.append(i)\n",
    "target_model.save(\"final_correct_model\"+\"\".join(l)+\".h5\")"
   ]
  },
  {
   "cell_type": "markdown",
   "metadata": {
    "colab_type": "text",
    "id": "GzEvrLN-jV2E"
   },
   "source": [
    "<h1> Starting RL now.</h1>"
   ]
  },
  {
   "cell_type": "code",
   "execution_count": 12,
   "metadata": {
    "colab": {},
    "colab_type": "code",
    "id": "Oe38g-SzjV2E"
   },
   "outputs": [],
   "source": [
    "from tensorflow.keras.models import Sequential, load_model\n",
    "from tensorflow.keras.layers import Dense, Dropout, Lambda, LayerNormalization\n",
    "from tensorflow.keras.callbacks import ModelCheckpoint, LearningRateScheduler, History, EarlyStopping"
   ]
  },
  {
   "cell_type": "code",
   "execution_count": 149,
   "metadata": {
    "colab": {},
    "colab_type": "code",
    "id": "hj399ndBjV2G"
   },
   "outputs": [],
   "source": [
    "def get_model(layers, mode):\n",
    "    model=Sequential()\n",
    "    for i, layer_data in enumerate(layers):\n",
    "        if layer_data[0]!='Lambda' and layer_data[0]!='lambda':\n",
    "            num_nodes, l_activation, l_dropout=layer_data\n",
    "            model.add(Dense(num_nodes, activation=l_activation))\n",
    "            if mode=='Train':\n",
    "                model.add(Dropout(l_dropout))\n",
    "        else:\n",
    "            lamb_func_=layer_data[1]\n",
    "            num_nodes_prev=layers[i-1][0]\n",
    "            model.add(Lambda(lamb_func_, output_shape=(None, num_nodes_prev)))\n",
    "        if i<=4:\n",
    "            model.add(LayerNormalization())\n",
    "    model.add(Dense(1))\n",
    "    return model"
   ]
  },
  {
   "cell_type": "code",
   "execution_count": 14,
   "metadata": {
    "colab": {},
    "colab_type": "code",
    "id": "qmpUhVs_jV2I"
   },
   "outputs": [],
   "source": [
    "def custom_loss(y_true, y_pred):\n",
    "    reward=y_true[:,0]\n",
    "    target=y_true[:,1]\n",
    "    return keras.backend.mean(keras.backend.abs(reward+0.8*target-y_pred))"
   ]
  },
  {
   "cell_type": "code",
   "execution_count": 15,
   "metadata": {
    "colab": {},
    "colab_type": "code",
    "id": "rnD4w-XwjV2K"
   },
   "outputs": [],
   "source": [
    "\"\"\"\n",
    "The epsilon greedy policy.\n",
    "Remember, it should be Greedy in the limit of infinity\n",
    "\"\"\"\n",
    "def get_threshold(train_step):\n",
    "    x=float(train_step)\n",
    "    if x==0:\n",
    "        return 0\n",
    "    x=x/5\n",
    "    return float(x)/(1+float(x))"
   ]
  },
  {
   "cell_type": "code",
   "execution_count": 16,
   "metadata": {
    "colab": {},
    "colab_type": "code",
    "id": "3J-TzXsJjV2M"
   },
   "outputs": [],
   "source": [
    "def custom_scaler(train_x, scaler):\n",
    "    train_x=train_x/scaler\n",
    "    return train_x\n",
    "    "
   ]
  },
  {
   "cell_type": "markdown",
   "metadata": {
    "colab_type": "text",
    "id": "LOYQ8DeAHyZL"
   },
   "source": [
    "<h1>Definition of actions:</h1><br>\n",
    "<ul>  \n",
    "<li>-1 is <i>Left</i><br>\n",
    "<li> 0 is <i>As Is</i><br>\n",
    "<li> 1 is <i>Right</i></ul>"
   ]
  },
  {
   "cell_type": "code",
   "execution_count": 17,
   "metadata": {
    "colab": {},
    "colab_type": "code",
    "id": "71fBD3euHivd"
   },
   "outputs": [],
   "source": [
    "actions=np.asarray([-1, 0, 1]) "
   ]
  },
  {
   "cell_type": "markdown",
   "metadata": {
    "colab_type": "text",
    "id": "zk2gpA4yjV2Q"
   },
   "source": [
    "<h1> Description of the Replay Memory</h1><br>\n",
    "The state will be sensors, speed, car_angle. So <b>10</b> values. State at time t<br>\n",
    "The action will be a value.,  but it is encoded one hot. Since 3 possible actions, hence <b>3</b> array units. action at time t<br>\n",
    "Next state <b>10</b> values.<br>\n",
    "The reward will be speed*(speed_multiplier) or penalty if off track. So <b>1</b> value. Reward at time t<br>\n",
    "The target reward is <b>1</b> value.<br>\n",
    "So, replay memory needs <b>25</b> columns.<br>\n",
    "<br>\n",
    "<b>During training, we only supply the first 13 columns, except the 10<sup>th</sup>, to the network.</b><br>\n",
    "Basically, we donot want to submit car_angle<br>\n",
    "The last 2 columns are supplied in y_true, and are used  in loss computation.<br>"
   ]
  },
  {
   "cell_type": "code",
   "execution_count": 18,
   "metadata": {
    "colab": {},
    "colab_type": "code",
    "id": "JQYcUk-bjV2Q"
   },
   "outputs": [],
   "source": [
    "def get_opt_action(car, network, actions, data_scaler, usescaler):\n",
    "    m1=np.ones((3, 1))\n",
    "    state=np.zeros((1, 9))\n",
    "    state[0, :8]=car.sensors\n",
    "    state[0, 8]=car.speed\n",
    "    test_x=np.hstack((np.matmul(m1, state), np.eye(3)))\n",
    "    if usescaler:\n",
    "        test_x=custom_scaler(test_x, data_scaler)\n",
    "    res=network.predict(test_x)\n",
    "    best_action=np.argmax(res)\n",
    "    if best_action==0:\n",
    "        return -1, res\n",
    "    if best_action==1:\n",
    "        return 0, res\n",
    "    if best_action==2:\n",
    "        return 1, res\n",
    "    \n",
    "def update_replay_helper(states, network, actions, data_scaler, usescaler):\n",
    "    \"\"\"\n",
    "    states is an N x 9 array, having, well, N states. \n",
    "    data scaler is an array of size 12 (number of features fed to the network).\n",
    "    12=9 (i.e. the state) + 3(i.e. the action).\n",
    "    It only scales, so no subtracting.\n",
    "    \n",
    "    Aim is to get the maximum value from this state\n",
    "    \"\"\"\n",
    "    rows=len(states)\n",
    "    m1=np.ones((rows, 1))\n",
    "    one_hot_actions=np.eye(len(actions))\n",
    "    \n",
    "    max_value=np.full((rows, 1), -np.inf)\n",
    "    \n",
    "    for action_index in range(len(one_hot_actions)):\n",
    "        temp=np.matmul(m1, one_hot_actions[action_index].reshape((1, -1)))\n",
    "        network_input=np.hstack((states, temp))\n",
    "        if usescaler:\n",
    "            network_input=custom_scaler(network_input, data_scaler)\n",
    "        max_value=np.maximum(max_value, network.predict(network_input))\n",
    "        \n",
    "    return max_value"
   ]
  },
  {
   "cell_type": "code",
   "execution_count": 339,
   "metadata": {
    "colab": {},
    "colab_type": "code",
    "id": "5MzwNSOnjV2S"
   },
   "outputs": [],
   "source": [
    "def populate_replay_memory(car, network, actions, replay_memory, insert_index,\n",
    "                          rows_to_fill, data_scaler, usescaler, train_step):\n",
    "    global exploration\n",
    "    \n",
    "    if np.random.choice([0, 1]):\n",
    "        car.re_spawn()\n",
    "        \n",
    "    for i in range(rows_to_fill):\n",
    "        \n",
    "        row_data=np.zeros((1, 25))\n",
    "        row_data[0, :8]=row_data[0, :8]+car.sensors\n",
    "        row_data[0, 8]=car.speed\n",
    "        row_data[0, 9]=car.car_angle\n",
    "        \n",
    "        # choose an action\n",
    "        x=np.random.uniform(0, 1)\n",
    "        if x>get_threshold(train_step):\n",
    "            direction=actions[np.random.choice(range(len(actions)))]\n",
    "        else:\n",
    "            direction, best_action_value=get_opt_action(car, network, actions, data_scaler, usescaler)\n",
    "        \n",
    "        # prepare action\n",
    "        if direction==0:\n",
    "            one_hot_direction=[0, 1, 0]\n",
    "        elif direction==-1:\n",
    "            one_hot_direction=[1, 0, 0]\n",
    "        else:\n",
    "            one_hot_direction=[0, 0, 1]\n",
    "        row_data[0, 10:13]=one_hot_direction\n",
    "        old_angle=car.car_angle\n",
    "        theta=car.car_angle\n",
    "        if direction==-1:\n",
    "            theta=np.mod(theta+np.pi/2, 2*np.pi)\n",
    "        elif direction==1:\n",
    "            theta=np.mod(theta-np.pi/2, 2*np.pi)\n",
    "            \n",
    "        # execute it\n",
    "        fin_f1, fin_f2=np.sin(theta), np.cos(theta)\n",
    "        car.execute_forces(fin_f1, fin_f2, max_magnitudes=500)\n",
    "        \n",
    "        # update exploration\n",
    "        exploration[car.integer_position_[0], car.integer_position_[1]]=1\n",
    "        \n",
    "        \n",
    "        row_data[0, 13:21]=row_data[0, 13:21]+car.sensors\n",
    "        row_data[0, 21]=car.speed\n",
    "        row_data[0, 22]=car.car_angle\n",
    "        \n",
    "        # calculate reward\n",
    "        if car.collided_on_last:\n",
    "            rew=-500\n",
    "        else:\n",
    "            rew=car.speed/10\n",
    "            \n",
    "            \n",
    "        row_data[0, 23]=rew\n",
    "        row_data[0, 24]=0\n",
    "        replay_memory[insert_index[0]]=replay_memory[insert_index[0]]*0+row_data\n",
    "        insert_index[0]=(insert_index[0]+1)%len(replay_memory)\n",
    "        \n",
    "    return\n",
    "\n",
    "\n",
    "def update_replay_memory(target_model, actions, replay_memory,\n",
    "                         data_scaler, usescaler):\n",
    "    # select the next state columns, except the car angle\n",
    "    l=[i for i in range(13, 13+8+2) if i!=(13+7+2)]\n",
    "    temp=replay_memory[:, l]\n",
    "    \n",
    "    # get the new target column that has max Q for each state\n",
    "    res=update_replay_helper(temp, target_model, actions, data_scaler, usescaler)\n",
    "    replay_memory[:, 24]=res.reshape((len(replay_memory), ))\n",
    "    \n",
    "    return"
   ]
  },
  {
   "cell_type": "markdown",
   "metadata": {
    "colab_type": "text",
    "id": "H7YhRGpijV2U"
   },
   "source": [
    "<h1>Here is the LR schedule</h1>"
   ]
  },
  {
   "cell_type": "code",
   "execution_count": 20,
   "metadata": {
    "colab": {},
    "colab_type": "code",
    "id": "tSSaUb3hjV2U"
   },
   "outputs": [],
   "source": [
    "def schedule(epoch, lr):\n",
    "    if epoch==15:\n",
    "        lr=lr/4\n",
    "    return lr"
   ]
  },
  {
   "cell_type": "code",
   "execution_count": 340,
   "metadata": {
    "colab": {},
    "colab_type": "code",
    "id": "iP5mCW3XjV2W"
   },
   "outputs": [],
   "source": [
    "layers=[\n",
    "(50, 'relu', 0.2),\n",
    "(200, 'relu', 0.2),\n",
    "(20, 'relu', 0.2),\n",
    "(500, 'relu', 0.2)\n",
    "]\n",
    "\n",
    "target_model=get_model(layers, 'eval')\n",
    "\n",
    "make_consistent_net=get_model(layers, 'train')\n",
    "\n",
    "keep_safe=get_model(layers, 'eval')\n",
    "\n",
    "\"\"\"\n",
    "The following callbacks are for the make_consistent_net only.\n",
    "\"\"\"\n",
    "early_stop=EarlyStopping(monitor='val_loss', min_delta=0, patience=50, verbose=1, mode='min')\n",
    "history=History()\n",
    "learning_scheduler=LearningRateScheduler(schedule)\n",
    "\n",
    "opt1=keras.optimizers.Adam(lr=0.001)\n",
    "make_consistent_net.compile(loss=custom_loss, optimizer=opt1)\n",
    "target_model.compile(loss=custom_loss, optimizer='adam')\n",
    "keep_safe.compile(loss=custom_loss, optimizer='adam')"
   ]
  },
  {
   "cell_type": "code",
   "execution_count": 307,
   "metadata": {
    "colab": {},
    "colab_type": "code",
    "id": "nq2PwINNjV2Y"
   },
   "outputs": [],
   "source": [
    "replay_size=400\n",
    "replay_memory=np.zeros((replay_size, 25))\n",
    "train_y=np.zeros((replay_size, 2))"
   ]
  },
  {
   "cell_type": "code",
   "execution_count": 312,
   "metadata": {
    "colab": {},
    "colab_type": "code",
    "id": "On9hg0fIjV2c"
   },
   "outputs": [],
   "source": [
    "val_loss_hist=[]\n",
    "train_loss_hist=[]"
   ]
  },
  {
   "cell_type": "code",
   "execution_count": 313,
   "metadata": {
    "colab": {
     "base_uri": "https://localhost:8080/",
     "height": 34
    },
    "colab_type": "code",
    "id": "xZmbtQPujV2e",
    "outputId": "3efd1d09-3796-4474-880c-5fb756fc8307"
   },
   "outputs": [
    {
     "data": {
      "text/plain": [
       "(array([], dtype=int64), array([], dtype=int64))"
      ]
     },
     "execution_count": 313,
     "metadata": {},
     "output_type": "execute_result"
    }
   ],
   "source": [
    "np.where(exploration==1)"
   ]
  },
  {
   "cell_type": "code",
   "execution_count": 383,
   "metadata": {
    "colab": {
     "base_uri": "https://localhost:8080/",
     "height": 595
    },
    "colab_type": "code",
    "id": "kY-ByPLNjV2f",
    "outputId": "5636647d-c3ae-4f40-bd37-4268511b1108",
    "scrolled": false
   },
   "outputs": [
    {
     "data": {
      "image/png": "[encoded data removed]",
      "text/plain": [
       "<Figure size 720x720 with 1 Axes>"
      ]
     },
     "metadata": {
      "needs_background": "light"
     },
     "output_type": "display_data"
    }
   ],
   "source": [
    "fig=plt.figure(figsize=(10, 10))\n",
    "plt.imshow(exploration+track1)\n",
    "plt.show()"
   ]
  },
  {
   "cell_type": "code",
   "execution_count": 381,
   "metadata": {
    "colab": {},
    "colab_type": "code",
    "id": "esEECeYtjV2i"
   },
   "outputs": [],
   "source": [
    "global exploration\n",
    "exploration=np.zeros((track_rows, track_cols))"
   ]
  },
  {
   "cell_type": "code",
   "execution_count": 382,
   "metadata": {
    "colab": {},
    "colab_type": "code",
    "id": "3bd01FT6jV2k"
   },
   "outputs": [],
   "source": [
    "car=Car(track.track, 50, track.spawn_at)\n",
    "car.sampling_frequency=20.0"
   ]
  },
  {
   "cell_type": "markdown",
   "metadata": {},
   "source": [
    "<h6> Declaring the training constants</h6>"
   ]
  },
  {
   "cell_type": "code",
   "execution_count": 345,
   "metadata": {},
   "outputs": [],
   "source": [
    "insert_index=[0]\n",
    "data_scaler=np.asarray([\n",
    "    100, 100, 100, 100,\n",
    "    100, 100, 100, 100,\n",
    "    50, 1, 1, 1\n",
    "])\n",
    "gamma=0.8\n",
    "usescaler=True\n",
    "inputcolumns=[i for i in range(13) if i!=9]\n"
   ]
  },
  {
   "cell_type": "code",
   "execution_count": null,
   "metadata": {
    "colab": {
     "base_uri": "https://localhost:8080/",
     "height": 384
    },
    "colab_type": "code",
    "id": "hnS1AzN7jV2m",
    "outputId": "7909e3a8-942a-49f3-fc33-672f998558f4",
    "scrolled": true
   },
   "outputs": [],
   "source": [
    "\n",
    "for train_step in range(99):\n",
    "    if train_step%4==0:\n",
    "        exploration=exploration*0\n",
    "        populate_replay_memory(car, target_model, actions, replay_memory,\n",
    "                               insert_index, replay_size, data_scaler, usescaler, train_step)\n",
    "        np.random.shuffle(replay_memory)\n",
    "        fig=plt.figure(figsize=(10, 10))\n",
    "        plt.imshow(exploration+track1)\n",
    "        plt.show()\n",
    "        \n",
    "    train_y=train_y*0\n",
    "    train_y[:,0]=train_y[:,0]+replay_memory[:,23]\n",
    "    train_y[:,1]=train_y[:,1]+replay_memory[:,24]\n",
    "    train_x=replay_memory[:,inputcolumns]\n",
    "    if usescaler:\n",
    "        train_x=custom_scaler(train_x, data_scaler)\n",
    "        \n",
    "        \n",
    "    make_consistent_net.fit(train_x, train_y, batch_size=1, epochs=5, verbose=1, shuffle=True,\n",
    "                            validation_split=0.1, callbacks=[early_stop, history, learning_scheduler])\n",
    "    \n",
    "    \n",
    "    val_loss_hist=val_loss_hist+history.history['val_loss']\n",
    "    train_loss_hist=train_loss_hist+history.history['loss']\n",
    "    \n",
    "    \n",
    "    if train_step%4==0:\n",
    "        plt.plot(make_consistent_net.predict(train_x)[:200])\n",
    "        plt.plot(0.96*target_model.predict(train_x)[:200].reshape((200, ))+replay_memory[:200, -2])\n",
    "        \n",
    "    target_model.set_weights(make_consistent_net.get_weights())\n",
    "    update_replay_memory(target_model, actions, replay_memory,\n",
    "                         data_scaler, usescaler)\n",
    "    \n",
    "\n",
    "    "
   ]
  },
  {
   "cell_type": "code",
   "execution_count": null,
   "metadata": {
    "colab": {
     "base_uri": "https://localhost:8080/",
     "height": 282
    },
    "colab_type": "code",
    "id": "5oExKuLWjV2p",
    "outputId": "65746b03-09c9-48ba-f52b-36bc31a18696",
    "scrolled": false
   },
   "outputs": [],
   "source": [
    "# 0.9*target_model.predict(train_x)[:1000].reshape((1000, ))+\n",
    "a=make_consistent_net.predict(train_x)[:400].reshape((400, ))\n",
    "b=replay_memory[:400, -2]\n",
    "print(a.shape, b.shape)\n",
    "sum(np.logical_and(a>-1, b<0))"
   ]
  },
  {
   "cell_type": "code",
   "execution_count": null,
   "metadata": {
    "colab": {},
    "colab_type": "code",
    "id": "IgESxrzQjV3B"
   },
   "outputs": [],
   "source": [
    "((make_consistent_net.predict(train_x))).max()"
   ]
  },
  {
   "cell_type": "code",
   "execution_count": 401,
   "metadata": {},
   "outputs": [
    {
     "name": "stdout",
     "output_type": "stream",
     "text": [
      "Model: \"sequential_40\"\n",
      "_________________________________________________________________\n",
      "Layer (type)                 Output Shape              Param #   \n",
      "=================================================================\n",
      "dense_200 (Dense)            multiple                  650       \n",
      "_________________________________________________________________\n",
      "layer_normalization_124 (Lay multiple                  100       \n",
      "_________________________________________________________________\n",
      "dense_201 (Dense)            multiple                  10200     \n",
      "_________________________________________________________________\n",
      "layer_normalization_125 (Lay multiple                  400       \n",
      "_________________________________________________________________\n",
      "dense_202 (Dense)            multiple                  4020      \n",
      "_________________________________________________________________\n",
      "layer_normalization_126 (Lay multiple                  40        \n",
      "_________________________________________________________________\n",
      "dense_203 (Dense)            multiple                  10500     \n",
      "_________________________________________________________________\n",
      "layer_normalization_127 (Lay multiple                  1000      \n",
      "_________________________________________________________________\n",
      "dense_204 (Dense)            multiple                  501       \n",
      "=================================================================\n",
      "Total params: 27,411\n",
      "Trainable params: 27,411\n",
      "Non-trainable params: 0\n",
      "_________________________________________________________________\n"
     ]
    }
   ],
   "source": [
    "make_consistent_net.summary()"
   ]
  },
  {
   "cell_type": "code",
   "execution_count": null,
   "metadata": {},
   "outputs": [],
   "source": []
  }
 ],
 "metadata": {
  "accelerator": "GPU",
  "colab": {
   "collapsed_sections": [],
   "name": "fin_carGame_mom's_drive.ipynb",
   "provenance": []
  },
  "kernelspec": {
   "display_name": "updated_cargame",
   "language": "python",
   "name": "updated_cargame"
  },
  "language_info": {
   "codemirror_mode": {
    "name": "ipython",
    "version": 3
   },
   "file_extension": ".py",
   "mimetype": "text/x-python",
   "name": "python",
   "nbconvert_exporter": "python",
   "pygments_lexer": "ipython3",
   "version": "3.6.6"
  }
 },
 "nbformat": 4,
 "nbformat_minor": 1
}
