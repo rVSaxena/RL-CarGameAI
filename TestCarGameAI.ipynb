{
 "cells": [
  {
   "cell_type": "code",
   "execution_count": null,
   "metadata": {},
   "outputs": [],
   "source": [
    "import tensorflow as tf\n",
    "from tensorflow import keras as keras\n",
    "import time\n",
    "import numpy as np\n",
    "import matplotlib.pyplot as plt\n",
    "import matplotlib\n",
    "import matplotlib.image as mpimg\n",
    "from tensorflow.keras.models import Sequential, load_model\n",
    "from tensorflow.keras.layers import Dense, Dropout, Lambda, LayerNormalization\n",
    "from tensorflow.keras.callbacks import ModelCheckpoint, LearningRateScheduler, History, EarlyStopping"
   ]
  },
  {
   "cell_type": "code",
   "execution_count": null,
   "metadata": {},
   "outputs": [],
   "source": [
    "from sample.functionImplemented import get_model, custom_loss, get_threshold, custom_scaler, get_opt_action, update_replay_helper, populate_replay_memory, update_replay_memory \n",
    "from sample.car import Car\n",
    "from sample.track import Track"
   ]
  },
  {
   "cell_type": "code",
   "execution_count": null,
   "metadata": {},
   "outputs": [],
   "source": [
    "img = mpimg.imread(\"tracks/track_pic9.jpg\")[:,:,0]\n",
    "track1=(img<150).astype('int')\n",
    "print(track1.shape)\n",
    "track_rows, track_cols=track1.shape\n",
    "pos_pos=np.where(track1==1)\n",
    "spawning_positions=np.zeros((len(pos_pos[0]), 2))\n",
    "spawning_positions[:, 0]=pos_pos[0]\n",
    "spawning_positions[:, 1]=pos_pos[1]\n",
    "spawning_positions=spawning_positions.astype('int')\n",
    "\n",
    "track=Track(track1, spawning_positions)\n",
    "plt.imshow(track1)\n",
    "plt.show()"
   ]
  },
  {
   "cell_type": "code",
   "execution_count": null,
   "metadata": {
    "scrolled": true
   },
   "outputs": [],
   "source": [
    "actions=np.asarray([-1, 0, 1]) \n",
    "data_scaler=np.asarray([\n",
    "    100, 100, 100, 100,\n",
    "    100, 100, 100, 100,\n",
    "    50, 1, 1, 1\n",
    "])\n",
    "usescaler=True\n",
    "trainedModel=tf.keras.models.load_model(\"TrainedModels/trainedModel1.h5\", custom_objects={'custom_loss':custom_loss})"
   ]
  },
  {
   "cell_type": "code",
   "execution_count": null,
   "metadata": {},
   "outputs": [],
   "source": [
    "new_car=Car(track.track, 50, track.spawn_at)\n",
    "new_car.sampling_frequency=20\n",
    "\n",
    "\n",
    "def get_plot(positions, superimposeon_this):\n",
    "    x, y=positions\n",
    "    for x_diff in range(-30, 31):\n",
    "        for y_diff in range(-30, 31):\n",
    "            if np.sqrt(x_diff**2+y_diff**2)<14:\n",
    "                superimposeon_this[x+x_diff][y+y_diff]=1\n",
    "    f=plt.figure(figsize=(10, 20))\n",
    "    plt.imshow(superimposeon_this+new_car.track)\n",
    "    plt.show()\n",
    "    return\n",
    "\n",
    "\n",
    "base_fig=np.zeros((track_rows, track_cols))\n",
    "\n",
    "\n",
    "for iteration in range(3000):\n",
    "    r, c=new_car.integer_position_\n",
    "    for x_diff in range(-7, 8):\n",
    "        for y_diff in range(-7, 8):\n",
    "            if np.sqrt(x_diff**2+y_diff**2)<4:\n",
    "                if r+x_diff<new_car.track.shape[0] and c+y_diff<new_car.track.shape[1]:\n",
    "                    base_fig[r+x_diff][c+y_diff]=1\n",
    "                    \n",
    "                    \n",
    "    direction, best_action_value=get_opt_action(new_car, trainedModel, actions, data_scaler, usescaler)\n",
    "    print(direction, new_car.sensors[4], new_car.speed)\n",
    "    \n",
    "    theta=new_car.car_angle\n",
    "    if direction==-1:\n",
    "        theta=theta+np.pi/2\n",
    "    if direction==1:\n",
    "        theta=theta-np.pi/2\n",
    "        \n",
    "    f1, f2=np.sin(theta), np.cos(theta)\n",
    "    new_car.execute_forces(f1, f2, max_magnitudes=500)\n",
    "    \n",
    "    if new_car.collided_on_last:\n",
    "        print(\"boom\")\n",
    "        break\n",
    "        \n",
    "get_plot(new_car.integer_position_, base_fig)  "
   ]
  },
  {
   "cell_type": "code",
   "execution_count": null,
   "metadata": {},
   "outputs": [],
   "source": [
    "plt.imshow(base_fig+track1)"
   ]
  }
 ],
 "metadata": {
  "kernelspec": {
   "display_name": "updated_cargame",
   "language": "python",
   "name": "updated_cargame"
  },
  "language_info": {
   "codemirror_mode": {
    "name": "ipython",
    "version": 3
   },
   "file_extension": ".py",
   "mimetype": "text/x-python",
   "name": "python",
   "nbconvert_exporter": "python",
   "pygments_lexer": "ipython3",
   "version": "3.6.6"
  }
 },
 "nbformat": 4,
 "nbformat_minor": 4
}
