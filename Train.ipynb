{
 "cells": [
  {
   "cell_type": "code",
   "execution_count": null,
   "metadata": {},
   "outputs": [],
   "source": [
    "import tensorflow as tf\n",
    "from tensorflow import keras as keras\n",
    "import time\n",
    "import numpy as np\n",
    "import matplotlib.pyplot as plt\n",
    "import matplotlib\n",
    "import matplotlib.image as mpimg\n",
    "from tensorflow.keras.models import Sequential, load_model\n",
    "from tensorflow.keras.layers import Dense, Dropout, Lambda, LayerNormalization\n",
    "from tensorflow.keras.callbacks import ModelCheckpoint, LearningRateScheduler, History, EarlyStopping"
   ]
  },
  {
   "cell_type": "code",
   "execution_count": null,
   "metadata": {},
   "outputs": [],
   "source": [
    "from sample.functionImplemented import get_model, custom_loss, get_threshold, custom_scaler, get_opt_action, update_replay_helper, populate_replay_memory, update_replay_memory \n",
    "from sample.car import Car\n",
    "from sample.track import Track"
   ]
  },
  {
   "cell_type": "markdown",
   "metadata": {
    "colab_type": "text",
    "id": "LOYQ8DeAHyZL"
   },
   "source": [
    "<h6>Definition of actions:</h6><br>\n",
    "<ul>  \n",
    "<li>-1 is <i>Left</i><br>\n",
    "<li> 0 is <i>As Is</i><br>\n",
    "<li> 1 is <i>Right</i></ul>"
   ]
  },
  {
   "cell_type": "code",
   "execution_count": null,
   "metadata": {},
   "outputs": [],
   "source": [
    "img = mpimg.imread(\"tracks/track_pic9.jpg\")[:,:,0]\n",
    "track1=(img<150).astype('int')\n",
    "print(track1.shape)\n",
    "track_rows, track_cols=track1.shape\n",
    "pos_pos=np.where(track1==1)\n",
    "spawning_positions=np.zeros((len(pos_pos[0]), 2))\n",
    "spawning_positions[:, 0]=pos_pos[0]\n",
    "spawning_positions[:, 1]=pos_pos[1]\n",
    "spawning_positions=spawning_positions.astype('int')\n",
    "\n",
    "track=Track(track1, spawning_positions)\n",
    "plt.imshow(track1)\n",
    "plt.show()"
   ]
  },
  {
   "cell_type": "code",
   "execution_count": null,
   "metadata": {
    "colab": {},
    "colab_type": "code",
    "id": "71fBD3euHivd"
   },
   "outputs": [],
   "source": [
    "actions=np.asarray([-1, 0, 1]) "
   ]
  },
  {
   "cell_type": "markdown",
   "metadata": {},
   "source": [
    "<h6>Model Declaration</h6>"
   ]
  },
  {
   "cell_type": "code",
   "execution_count": null,
   "metadata": {
    "colab": {},
    "colab_type": "code",
    "id": "iP5mCW3XjV2W"
   },
   "outputs": [],
   "source": [
    "layers=[\n",
    "(50, 'relu', 0.2),\n",
    "(200, 'relu', 0.2),\n",
    "(20, 'relu', 0.2),\n",
    "(500, 'relu', 0.2)\n",
    "]\n",
    "\n",
    "target_model=get_model(layers, 'eval')\n",
    "\n",
    "make_consistent_net=get_model(layers, 'train')\n",
    "\n",
    "keep_safe=get_model(layers, 'eval')\n",
    "\n",
    "\"\"\"\n",
    "The following callbacks are for the make_consistent_net only.\n",
    "\"\"\"\n",
    "early_stop=EarlyStopping(monitor='val_loss', min_delta=0, patience=50, verbose=1, mode='min')\n",
    "history=History()\n",
    "learning_scheduler=LearningRateScheduler(schedule)\n",
    "\n",
    "opt1=keras.optimizers.Adam(lr=0.001)\n",
    "make_consistent_net.compile(loss=custom_loss, optimizer=opt1)\n",
    "target_model.compile(loss=custom_loss, optimizer='adam')\n",
    "keep_safe.compile(loss=custom_loss, optimizer='adam')"
   ]
  },
  {
   "cell_type": "code",
   "execution_count": null,
   "metadata": {
    "colab": {},
    "colab_type": "code",
    "id": "nq2PwINNjV2Y"
   },
   "outputs": [],
   "source": [
    "replay_size=400\n",
    "replay_memory=np.zeros((replay_size, 25))\n",
    "train_y=np.zeros((replay_size, 2))"
   ]
  },
  {
   "cell_type": "code",
   "execution_count": null,
   "metadata": {
    "colab": {},
    "colab_type": "code",
    "id": "On9hg0fIjV2c"
   },
   "outputs": [],
   "source": [
    "val_loss_hist=[]\n",
    "train_loss_hist=[]"
   ]
  },
  {
   "cell_type": "code",
   "execution_count": null,
   "metadata": {
    "colab": {},
    "colab_type": "code",
    "id": "esEECeYtjV2i"
   },
   "outputs": [],
   "source": [
    "global exploration\n",
    "exploration=np.zeros((track_rows, track_cols))"
   ]
  },
  {
   "cell_type": "code",
   "execution_count": null,
   "metadata": {
    "colab": {
     "base_uri": "https://localhost:8080/",
     "height": 34
    },
    "colab_type": "code",
    "id": "xZmbtQPujV2e",
    "outputId": "3efd1d09-3796-4474-880c-5fb756fc8307"
   },
   "outputs": [],
   "source": [
    "np.where(exploration==1)"
   ]
  },
  {
   "cell_type": "code",
   "execution_count": null,
   "metadata": {
    "colab": {
     "base_uri": "https://localhost:8080/",
     "height": 595
    },
    "colab_type": "code",
    "id": "kY-ByPLNjV2f",
    "outputId": "5636647d-c3ae-4f40-bd37-4268511b1108",
    "scrolled": false
   },
   "outputs": [],
   "source": [
    "fig=plt.figure(figsize=(10, 10))\n",
    "plt.imshow(exploration+track1)\n",
    "plt.show()"
   ]
  },
  {
   "cell_type": "code",
   "execution_count": null,
   "metadata": {
    "colab": {},
    "colab_type": "code",
    "id": "3bd01FT6jV2k"
   },
   "outputs": [],
   "source": [
    "car=Car(track.track, 50, track.spawn_at)\n",
    "car.sampling_frequency=20.0"
   ]
  },
  {
   "cell_type": "markdown",
   "metadata": {},
   "source": [
    "<h6> Declaring the training constants</h6>"
   ]
  },
  {
   "cell_type": "code",
   "execution_count": null,
   "metadata": {},
   "outputs": [],
   "source": [
    "insert_index=[0]\n",
    "data_scaler=np.asarray([\n",
    "    100, 100, 100, 100,\n",
    "    100, 100, 100, 100,\n",
    "    50, 1, 1, 1\n",
    "])\n",
    "gamma=0.8\n",
    "usescaler=True\n",
    "inputcolumns=[i for i in range(13) if i!=9]\n"
   ]
  },
  {
   "cell_type": "code",
   "execution_count": null,
   "metadata": {
    "colab": {
     "base_uri": "https://localhost:8080/",
     "height": 384
    },
    "colab_type": "code",
    "id": "hnS1AzN7jV2m",
    "outputId": "7909e3a8-942a-49f3-fc33-672f998558f4",
    "scrolled": true
   },
   "outputs": [],
   "source": [
    "\n",
    "for train_step in range(99):\n",
    "    if train_step%4==0:\n",
    "        exploration=exploration*0\n",
    "        populate_replay_memory(car, target_model, actions, replay_memory,\n",
    "                               insert_index, replay_size, data_scaler, usescaler, train_step)\n",
    "        np.random.shuffle(replay_memory)\n",
    "        fig=plt.figure(figsize=(10, 10))\n",
    "        plt.imshow(exploration+track1)\n",
    "        plt.show()\n",
    "        \n",
    "    train_y=train_y*0\n",
    "    train_y[:,0]=train_y[:,0]+replay_memory[:,23]\n",
    "    train_y[:,1]=train_y[:,1]+replay_memory[:,24]\n",
    "    train_x=replay_memory[:,inputcolumns]\n",
    "    if usescaler:\n",
    "        train_x=custom_scaler(train_x, data_scaler)\n",
    "        \n",
    "        \n",
    "    make_consistent_net.fit(train_x, train_y, batch_size=1, epochs=5, verbose=1, shuffle=True,\n",
    "                            validation_split=0.1, callbacks=[early_stop, history, learning_scheduler])\n",
    "    \n",
    "    \n",
    "    val_loss_hist=val_loss_hist+history.history['val_loss']\n",
    "    train_loss_hist=train_loss_hist+history.history['loss']\n",
    "    \n",
    "    \n",
    "    if train_step%4==0:\n",
    "        plt.plot(make_consistent_net.predict(train_x)[:200])\n",
    "        plt.plot(0.96*target_model.predict(train_x)[:200].reshape((200, ))+replay_memory[:200, -2])\n",
    "        \n",
    "    target_model.set_weights(make_consistent_net.get_weights())\n",
    "    update_replay_memory(target_model, actions, replay_memory,\n",
    "                         data_scaler, usescaler)\n",
    "    \n",
    "\n",
    "    "
   ]
  },
  {
   "cell_type": "code",
   "execution_count": null,
   "metadata": {},
   "outputs": [],
   "source": [
    "target_model.save(\"TrainedModels/trainedModel1.h5\")"
   ]
  },
  {
   "cell_type": "code",
   "execution_count": null,
   "metadata": {
    "colab": {
     "base_uri": "https://localhost:8080/",
     "height": 282
    },
    "colab_type": "code",
    "id": "5oExKuLWjV2p",
    "outputId": "65746b03-09c9-48ba-f52b-36bc31a18696",
    "scrolled": false
   },
   "outputs": [],
   "source": [
    "# 0.9*target_model.predict(train_x)[:1000].reshape((1000, ))+\n",
    "a=make_consistent_net.predict(train_x)[:400].reshape((400, ))\n",
    "b=replay_memory[:400, -2]\n",
    "print(a.shape, b.shape)\n",
    "sum(np.logical_and(a>-1, b<0))"
   ]
  },
  {
   "cell_type": "code",
   "execution_count": null,
   "metadata": {
    "colab": {},
    "colab_type": "code",
    "id": "IgESxrzQjV3B"
   },
   "outputs": [],
   "source": [
    "((make_consistent_net.predict(train_x))).max()"
   ]
  },
  {
   "cell_type": "code",
   "execution_count": null,
   "metadata": {},
   "outputs": [],
   "source": [
    "make_consistent_net.summary()"
   ]
  }
 ],
 "metadata": {
  "kernelspec": {
   "display_name": "updated_cargame",
   "language": "python",
   "name": "updated_cargame"
  },
  "language_info": {
   "codemirror_mode": {
    "name": "ipython",
    "version": 3
   },
   "file_extension": ".py",
   "mimetype": "text/x-python",
   "name": "python",
   "nbconvert_exporter": "python",
   "pygments_lexer": "ipython3",
   "version": "3.6.6"
  }
 },
 "nbformat": 4,
 "nbformat_minor": 4
}
