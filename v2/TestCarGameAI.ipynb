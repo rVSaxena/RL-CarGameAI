{
 "cells": [
  {
   "cell_type": "code",
   "execution_count": null,
   "metadata": {},
   "outputs": [],
   "source": [
    "import tensorflow as tf\n",
    "from tensorflow import keras as keras\n",
    "import time\n",
    "import numpy as np\n",
    "import matplotlib.pyplot as plt\n",
    "import matplotlib\n",
    "import matplotlib.image as mpimg\n",
    "from tensorflow.keras.models import Sequential, load_model\n",
    "from tensorflow.keras.layers import Dense, Dropout, Lambda, LayerNormalization\n",
    "from tensorflow.keras.callbacks import ModelCheckpoint, LearningRateScheduler, History, EarlyStopping"
   ]
  },
  {
   "cell_type": "code",
   "execution_count": null,
   "metadata": {},
   "outputs": [],
   "source": [
    "from sample.functionImplemented import get_model, custom_loss, get_threshold, schedule, custom_scaler, get_opt_action, update_replay_helper, populate_replay_memory, update_replay_memory \n",
    "from sample.car import Car\n",
    "from sample.track import Track"
   ]
  },
  {
   "cell_type": "code",
   "execution_count": null,
   "metadata": {},
   "outputs": [],
   "source": [
    "img = mpimg.imread(\"tracks/track_pic9.jpg\")[:,:,0]\n",
    "track1=(img<50).astype('int')\n",
    "print(track1.shape)\n",
    "track_rows, track_cols=track1.shape\n",
    "pos_pos=np.where(track1==1)\n",
    "spawning_positions=np.zeros((len(pos_pos[0]), 2))\n",
    "spawning_positions[:, 0]=pos_pos[0]\n",
    "spawning_positions[:, 1]=pos_pos[1]\n",
    "spawning_positions=spawning_positions.astype('int')\n",
    "\n",
    "track=Track(track1, 5)\n",
    "l=spawning_positions[np.random.choice(range(len(spawning_positions)), size=(20, ))]\n",
    "\n",
    "for (i,j) in l:\n",
    "    track.add_checkpoints(i,j)\n",
    "track.checkpoints=np.asarray(track.checkpoints)\n",
    "track.spawn_at=np.asarray(track.spawn_at)\n",
    "plt.imshow(track1)\n",
    "plt.show()"
   ]
  },
  {
   "cell_type": "code",
   "execution_count": null,
   "metadata": {
    "scrolled": true
   },
   "outputs": [],
   "source": [
    "throttle_quant=np.linspace(-1,1,9)\n",
    "steer_quant=np.linspace(-1,1,7)\n",
    "actions=np.asarray([(throttle, steer) for throttle in throttle_quant for steer in steer_quant]) \n",
    "data_scaler=np.asarray([\n",
    "    100, 100, 100, 100,\n",
    "    100, 100, 100, 100,\n",
    "    50, 1, 1\n",
    "])\n",
    "usescaler=True\n",
    "gamma=0.9\n",
    "trainedModel=tf.keras.models.load_model(\"TrainedModels/trainedModelspa1.h5\", custom_objects={'cl':custom_loss(gamma)})"
   ]
  },
  {
   "cell_type": "code",
   "execution_count": null,
   "metadata": {
    "scrolled": false
   },
   "outputs": [],
   "source": [
    "new_car=Car(track, 80, 10.0)\n",
    "# new_car.sampling_frequency=10.0\n",
    "throttle_trace=[]\n",
    "steer_trace=[]\n",
    "speed_trace=[]\n",
    "\n",
    "def get_plot(positions, superimposeon_this):\n",
    "    x, y=positions\n",
    "    for x_diff in range(-5, 7):\n",
    "        for y_diff in range(-5, 7):\n",
    "            if np.sqrt(x_diff**2+y_diff**2)<14:\n",
    "                superimposeon_this[x+x_diff][y+y_diff]=1\n",
    "    f=plt.figure(figsize=(10, 20))\n",
    "    plt.imshow(superimposeon_this+new_car.track.track)\n",
    "    plt.show()\n",
    "    return\n",
    "\n",
    "\n",
    "base_fig=np.zeros((track_rows, track_cols))\n",
    "\n",
    "\n",
    "for iteration in range(200):\n",
    "    r, c=new_car.integer_position_\n",
    "    for x_diff in range(-3, 4):\n",
    "        for y_diff in range(-3, 4):\n",
    "            if np.sqrt(x_diff**2+y_diff**2)<4:\n",
    "                if r+x_diff<new_car.track.track.shape[0] and c+y_diff<new_car.track.track.shape[1]:\n",
    "                    base_fig[r+x_diff][c+y_diff]=1\n",
    "                    \n",
    "                    \n",
    "    throttle, steer=get_opt_action(new_car, trainedModel, actions, data_scaler, usescaler)\n",
    "    throttle_trace.append(throttle)\n",
    "    steer_trace.append(steer)\n",
    "    speed_trace.append(new_car.speed)\n",
    "    \n",
    "    theta=new_car.car_angle\n",
    "    f1, f2=throttle*np.sin(theta)-steer*np.cos(theta), throttle*np.cos(theta)+steer*np.sin(theta)\n",
    "#     print(steer, new_car.speed, new_car.car_angle, new_car.current_position)\n",
    "    new_car.execute_forces(f1, f2, max_magnitudes=20)\n",
    "#     new_car.speed=20.0\n",
    "    if new_car.collided_on_last:\n",
    "        print(\"boom\")\n",
    "        break\n",
    "        \n",
    "get_plot(new_car.integer_position_, base_fig)  "
   ]
  },
  {
   "cell_type": "code",
   "execution_count": null,
   "metadata": {},
   "outputs": [],
   "source": [
    "telemetry_plts=plt.figure(figsize=(10, 10))\n",
    "ax1=telemetry_plts.add_subplot(3, 1, 1)\n",
    "ax1.plot(speed_trace)\n",
    "ax2=telemetry_plts.add_subplot(3, 1, 2)\n",
    "ax2.plot(throttle_trace)\n",
    "ax3=telemetry_plts.add_subplot(3, 1, 3)\n",
    "ax3.plot(steer_trace)\n",
    "ax1.set_title(\"Speed\")\n",
    "ax2.set_title(\"throttle\")\n",
    "ax3.set_title(\"Steering\")\n",
    "telemetry_plts.suptitle(\"Telemetry\")\n",
    "telemetry_plts.show()"
   ]
  },
  {
   "cell_type": "code",
   "execution_count": null,
   "metadata": {},
   "outputs": [],
   "source": [
    "trainedModel."
   ]
  }
 ],
 "metadata": {
  "kernelspec": {
   "display_name": "updated_cargame",
   "language": "python",
   "name": "updated_cargame"
  },
  "language_info": {
   "codemirror_mode": {
    "name": "ipython",
    "version": 3
   },
   "file_extension": ".py",
   "mimetype": "text/x-python",
   "name": "python",
   "nbconvert_exporter": "python",
   "pygments_lexer": "ipython3",
   "version": "3.6.6"
  }
 },
 "nbformat": 4,
 "nbformat_minor": 4
}
